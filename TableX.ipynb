{
  "nbformat": 4,
  "nbformat_minor": 0,
  "metadata": {
    "colab": {
      "name": "TableX.ipynb",
      "provenance": []
    },
    "kernelspec": {
      "name": "python3",
      "display_name": "Python 3"
    },
    "language_info": {
      "name": "python"
    }
  },
  "cells": [
    {
      "cell_type": "markdown",
      "metadata": {
        "id": "dmwh0Wt8noZo"
      },
      "source": [
        "# **TableX**"
      ]
    },
    {
      "cell_type": "markdown",
      "metadata": {
        "id": "FiMigUd0nkza"
      },
      "source": [
        "**Herunterladen der erforderlichen Tensorflow- und Keras-Versionen**"
      ]
    },
    {
      "cell_type": "code",
      "metadata": {
        "id": "dma9lPfEUzFB"
      },
      "source": [
        "!pip install tensorflow-gpu==1.13.2"
      ],
      "execution_count": null,
      "outputs": []
    },
    {
      "cell_type": "code",
      "metadata": {
        "id": "5db5_DVHVJAq"
      },
      "source": [
        "!pip install q keras==2.0.3"
      ],
      "execution_count": null,
      "outputs": []
    },
    {
      "cell_type": "code",
      "metadata": {
        "id": "bFFLl_YNVJB7"
      },
      "source": [
        "import tensorflow as tf\n",
        "print(tf.__version__)"
      ],
      "execution_count": null,
      "outputs": []
    },
    {
      "cell_type": "code",
      "metadata": {
        "id": "ZAv9mARmVJFR"
      },
      "source": [
        "import keras\n",
        "keras.__version__"
      ],
      "execution_count": null,
      "outputs": []
    },
    {
      "cell_type": "markdown",
      "metadata": {
        "id": "5y4Vxng2nz5S"
      },
      "source": [
        "**Mounting Drive**"
      ]
    },
    {
      "cell_type": "code",
      "metadata": {
        "id": "rNRMK37zVJGv"
      },
      "source": [
        "from google.colab import drive\n",
        "drive.mount('/content/drive/')"
      ],
      "execution_count": null,
      "outputs": []
    },
    {
      "cell_type": "code",
      "metadata": {
        "id": "Zz0FjFQxVJKk"
      },
      "source": [
        "import os\n",
        "os.chdir(\"/content/drive/My Drive\")"
      ],
      "execution_count": null,
      "outputs": []
    },
    {
      "cell_type": "markdown",
      "metadata": {
        "id": "sOQjPSYon9NZ"
      },
      "source": [
        "**Klonen des Faster-RCNN-Repository**"
      ]
    },
    {
      "cell_type": "code",
      "metadata": {
        "id": "JwetFmXVVWpY"
      },
      "source": [
        "#!git clone https://github.com/zeynepsenak/TableX"
      ],
      "execution_count": null,
      "outputs": []
    },
    {
      "cell_type": "markdown",
      "metadata": {
        "id": "SjrhtD8poWso"
      },
      "source": [
        "**Impotieren erforderlichen Bibliotheken**"
      ]
    },
    {
      "cell_type": "code",
      "metadata": {
        "id": "XNWVZs78VWqu"
      },
      "source": [
        "import pandas as pd\n",
        "import matplotlib.pyplot as plt\n",
        "%matplotlib inline\n",
        "from matplotlib import patches"
      ],
      "execution_count": null,
      "outputs": []
    },
    {
      "cell_type": "markdown",
      "metadata": {
        "id": "Oenl33TgokrH"
      },
      "source": [
        "**Datensatz Analyse**"
      ]
    },
    {
      "cell_type": "markdown",
      "metadata": {
        "id": "3Zd_COVzpLq7"
      },
      "source": [
        "To convert XML to CSV - check XML_to_trainval.txt.ipynb"
      ]
    },
    {
      "cell_type": "code",
      "metadata": {
        "id": "AFXfCqisVWuL"
      },
      "source": [
        "train_data_path = '/content/drive/MyDrive/keras-frcnn/track_a_train.csv'\n",
        "train = pd.read_csv(train_data_path)\n",
        "train.head()"
      ],
      "execution_count": null,
      "outputs": []
    },
    {
      "cell_type": "code",
      "metadata": {
        "id": "rrku4-fTVWxC"
      },
      "source": [
        "example_image_path = '/content/drive/MyDrive/keras-frcnn/train_images/cTDaR_t10160.jpg'\n",
        "image = plt.imread(example_image_path)\n",
        "plt.imshow(image)"
      ],
      "execution_count": null,
      "outputs": []
    },
    {
      "cell_type": "code",
      "metadata": {
        "id": "wq73fQVHVi_V"
      },
      "source": [
        "train['image_names'].nunique()"
      ],
      "execution_count": null,
      "outputs": []
    },
    {
      "cell_type": "markdown",
      "metadata": {
        "id": "Z119skH7qFG6"
      },
      "source": [
        "To convert CSV to trainval.txt - check XML_to_trainval.txt.ipynb"
      ]
    },
    {
      "cell_type": "markdown",
      "metadata": {
        "id": "rgdY6dLmqL0E"
      },
      "source": [
        "**Training**"
      ]
    },
    {
      "cell_type": "code",
      "metadata": {
        "id": "ynKcn7svVjEn"
      },
      "source": [
        "#Train\n",
        "%cd /content/drive/MyDrive/keras-frcnn\n",
        "!python train_frcnn.py -o simple -p annotate.txt"
      ],
      "execution_count": null,
      "outputs": []
    },
    {
      "cell_type": "markdown",
      "metadata": {
        "id": "XXtG_Sp9qOrm"
      },
      "source": [
        "**Testing**"
      ]
    },
    {
      "cell_type": "code",
      "metadata": {
        "id": "H2lZnTdZVxXk"
      },
      "source": [
        " #Test için gerekli\n",
        " pip install h5py==2.10.0"
      ],
      "execution_count": null,
      "outputs": []
    },
    {
      "cell_type": "code",
      "metadata": {
        "id": "Wa7_IKMwVxab"
      },
      "source": [
        " #Test\n",
        "%cd /content/drive/MyDrive/keras-frcnn\n",
        "!python test_frcnn.py -p test_images"
      ],
      "execution_count": null,
      "outputs": []
    }
  ]
}